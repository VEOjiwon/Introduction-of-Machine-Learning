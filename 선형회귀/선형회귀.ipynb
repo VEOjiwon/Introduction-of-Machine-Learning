{
  "nbformat": 4,
  "nbformat_minor": 0,
  "metadata": {
    "colab": {
      "name": "선형회귀.ipynb",
      "provenance": [],
      "collapsed_sections": [],
      "authorship_tag": "ABX9TyMG32Jp6MXr1MGmEEP2/HVP",
      "include_colab_link": true
    },
    "kernelspec": {
      "name": "python3",
      "display_name": "Python 3"
    },
    "language_info": {
      "name": "python"
    },
    "accelerator": "GPU"
  },
  "cells": [
    {
      "cell_type": "markdown",
      "metadata": {
        "id": "view-in-github",
        "colab_type": "text"
      },
      "source": [
        "<a href=\"https://colab.research.google.com/github/VEOjiwon/Introduction-of-Machine-Learning/blob/main/%EC%84%A0%ED%98%95%ED%9A%8C%EA%B7%80/%EC%84%A0%ED%98%95%ED%9A%8C%EA%B7%80.ipynb\" target=\"_parent\"><img src=\"https://colab.research.google.com/assets/colab-badge.svg\" alt=\"Open In Colab\"/></a>"
      ]
    },
    {
      "cell_type": "markdown",
      "metadata": {
        "id": "F4S5bUJ26SFy"
      },
      "source": [
        "# 선형 회귀 ( Linear Regression )"
      ]
    },
    {
      "cell_type": "code",
      "metadata": {
        "colab": {
          "base_uri": "https://localhost:8080/"
        },
        "id": "mEEx9YMG6D7x",
        "outputId": "e6566b4c-7fbf-4640-dfa7-d7cfd0616b1f"
      },
      "source": [
        "import torch\n",
        "import torch.nn as nn\n",
        "import torch.nn.functional as F\n",
        "import torch.optim as optim\n",
        "\n",
        "torch.manual_seed(1)\n"
      ],
      "execution_count": null,
      "outputs": [
        {
          "output_type": "execute_result",
          "data": {
            "text/plain": [
              "<torch._C.Generator at 0x7fd26b5c1a90>"
            ]
          },
          "metadata": {
            "tags": []
          },
          "execution_count": 1
        }
      ]
    },
    {
      "cell_type": "code",
      "metadata": {
        "id": "z3FchZo_-ODX"
      },
      "source": [
        "#변수 선언\n",
        "x_train = torch.FloatTensor([[1], [2], [3]])\n",
        "y_train = torch.FloatTensor([[2], [4], [6]])"
      ],
      "execution_count": null,
      "outputs": []
    },
    {
      "cell_type": "code",
      "metadata": {
        "colab": {
          "base_uri": "https://localhost:8080/"
        },
        "id": "BWRLzDjx-bJu",
        "outputId": "1dfa016a-e2aa-4f01-a4e3-8f528298d604"
      },
      "source": [
        "print(x_train)\n",
        "print(x_train.shape)"
      ],
      "execution_count": null,
      "outputs": [
        {
          "output_type": "stream",
          "text": [
            "tensor([[1.],\n",
            "        [2.],\n",
            "        [3.]])\n",
            "torch.Size([3, 1])\n"
          ],
          "name": "stdout"
        }
      ]
    },
    {
      "cell_type": "code",
      "metadata": {
        "colab": {
          "base_uri": "https://localhost:8080/"
        },
        "id": "53OgMVyz-kLW",
        "outputId": "ccaf8997-1e82-4050-d389-79d228ca4cac"
      },
      "source": [
        "print(y_train)\n",
        "print(y_train.shape)"
      ],
      "execution_count": null,
      "outputs": [
        {
          "output_type": "stream",
          "text": [
            "tensor([[2.],\n",
            "        [4.],\n",
            "        [6.]])\n",
            "torch.Size([3, 1])\n"
          ],
          "name": "stdout"
        }
      ]
    },
    {
      "cell_type": "code",
      "metadata": {
        "colab": {
          "base_uri": "https://localhost:8080/"
        },
        "id": "gGvGQDSJ-mGV",
        "outputId": "9494dda1-baee-42f0-b3cf-3fe3d03fc33d"
      },
      "source": [
        "# 가중치와 편향의 초기화\n",
        "\n",
        "W = torch.zeros(1, requires_grad=True)\n",
        "\n",
        "print(W)\n",
        "\n",
        "b = torch.zeros(1, requires_grad=True)\n",
        "print(b)"
      ],
      "execution_count": null,
      "outputs": [
        {
          "output_type": "stream",
          "text": [
            "tensor([0.], requires_grad=True)\n",
            "tensor([0.], requires_grad=True)\n"
          ],
          "name": "stdout"
        }
      ]
    },
    {
      "cell_type": "code",
      "metadata": {
        "colab": {
          "base_uri": "https://localhost:8080/"
        },
        "id": "jxbQV5sL-vfM",
        "outputId": "bbd930d1-55d0-456d-d60a-6454f6f58a86"
      },
      "source": [
        "# 가설 세우기\n",
        "\n",
        "hypothesis = x_train * W + b\n",
        "print(hypothesis)"
      ],
      "execution_count": null,
      "outputs": [
        {
          "output_type": "stream",
          "text": [
            "tensor([[0.],\n",
            "        [0.],\n",
            "        [0.]], grad_fn=<AddBackward0>)\n"
          ],
          "name": "stdout"
        }
      ]
    },
    {
      "cell_type": "code",
      "metadata": {
        "colab": {
          "base_uri": "https://localhost:8080/"
        },
        "id": "Nh5BPaGO-9WT",
        "outputId": "0d844e5e-147c-4ee3-be10-7a8f81437046"
      },
      "source": [
        "# 비용함수 선언하기\n",
        "\n",
        "cost = torch.mean((hypothesis - y_train) ** 2)\n",
        "print(cost)"
      ],
      "execution_count": null,
      "outputs": [
        {
          "output_type": "stream",
          "text": [
            "tensor(18.6667, grad_fn=<MeanBackward0>)\n"
          ],
          "name": "stdout"
        }
      ]
    },
    {
      "cell_type": "code",
      "metadata": {
        "id": "TS2kVxGT_ElD"
      },
      "source": [
        "# 경사 하강법 구현\n",
        "\n",
        "optimizer = optim.SGD([W,b], lr=0.01)\n",
        "\n",
        "optimizer.zero_grad()\n",
        "cost.backward()\n",
        "optimizer.step()"
      ],
      "execution_count": null,
      "outputs": []
    },
    {
      "cell_type": "code",
      "metadata": {
        "colab": {
          "base_uri": "https://localhost:8080/"
        },
        "id": "-jTE5mHV_QFq",
        "outputId": "7f59450b-81c3-4095-f785-020c4d7ab684"
      },
      "source": [
        "# 전체 코드\n",
        "x_train = torch.FloatTensor([[1], [2], [3]])\n",
        "y_train = torch.FloatTensor([[2], [4], [6]])\n",
        "# 모델 초기화\n",
        "W = torch.zeros(1, requires_grad=True)\n",
        "b = torch.zeros(1, requires_grad=True)\n",
        "# optimizer 설정\n",
        "optimizer = optim.SGD([W, b], lr=0.01)\n",
        "\n",
        "nb_epochs = 1999 # 원하는만큼 경사 하강법을 반복\n",
        "for epoch in range(nb_epochs + 1):\n",
        "\n",
        "    # H(x) 계산\n",
        "    hypothesis = x_train * W + b\n",
        "\n",
        "    # cost 계산\n",
        "    cost = torch.mean((hypothesis - y_train) ** 2)\n",
        "\n",
        "    # cost로 H(x) 개선\n",
        "    optimizer.zero_grad()\n",
        "    cost.backward()\n",
        "    optimizer.step()\n",
        "\n",
        "    # 100번마다 로그 출력\n",
        "    if epoch % 100 == 0:\n",
        "        print('Epoch {:4d}/{} W: {:.3f}, b: {:.3f} Cost: {:.6f}'.format(\n",
        "            epoch, nb_epochs, W.item(), b.item(), cost.item()\n",
        "        ))\n",
        "        print(hypothesis)"
      ],
      "execution_count": null,
      "outputs": [
        {
          "output_type": "stream",
          "text": [
            "Epoch    0/1999 W: 0.187, b: 0.080 Cost: 18.666666\n",
            "tensor([[0.],\n",
            "        [0.],\n",
            "        [0.]], grad_fn=<AddBackward0>)\n",
            "Epoch  100/1999 W: 1.746, b: 0.578 Cost: 0.048171\n",
            "tensor([[2.3245],\n",
            "        [4.0696],\n",
            "        [5.8147]], grad_fn=<AddBackward0>)\n",
            "Epoch  200/1999 W: 1.800, b: 0.454 Cost: 0.029767\n",
            "tensor([[2.2551],\n",
            "        [4.0548],\n",
            "        [5.8544]], grad_fn=<AddBackward0>)\n",
            "Epoch  300/1999 W: 1.843, b: 0.357 Cost: 0.018394\n",
            "tensor([[2.2006],\n",
            "        [4.0430],\n",
            "        [5.8855]], grad_fn=<AddBackward0>)\n",
            "Epoch  400/1999 W: 1.876, b: 0.281 Cost: 0.011366\n",
            "tensor([[2.1577],\n",
            "        [4.0338],\n",
            "        [5.9100]], grad_fn=<AddBackward0>)\n",
            "Epoch  500/1999 W: 1.903, b: 0.221 Cost: 0.007024\n",
            "tensor([[2.1239],\n",
            "        [4.0266],\n",
            "        [5.9293]], grad_fn=<AddBackward0>)\n",
            "Epoch  600/1999 W: 1.924, b: 0.174 Cost: 0.004340\n",
            "tensor([[2.0974],\n",
            "        [4.0209],\n",
            "        [5.9444]], grad_fn=<AddBackward0>)\n",
            "Epoch  700/1999 W: 1.940, b: 0.136 Cost: 0.002682\n",
            "tensor([[2.0766],\n",
            "        [4.0164],\n",
            "        [5.9563]], grad_fn=<AddBackward0>)\n",
            "Epoch  800/1999 W: 1.953, b: 0.107 Cost: 0.001657\n",
            "tensor([[2.0602],\n",
            "        [4.0129],\n",
            "        [5.9656]], grad_fn=<AddBackward0>)\n",
            "Epoch  900/1999 W: 1.963, b: 0.084 Cost: 0.001024\n",
            "tensor([[2.0473],\n",
            "        [4.0102],\n",
            "        [5.9730]], grad_fn=<AddBackward0>)\n",
            "Epoch 1000/1999 W: 1.971, b: 0.066 Cost: 0.000633\n",
            "tensor([[2.0372],\n",
            "        [4.0080],\n",
            "        [5.9788]], grad_fn=<AddBackward0>)\n",
            "Epoch 1100/1999 W: 1.977, b: 0.052 Cost: 0.000391\n",
            "tensor([[2.0292],\n",
            "        [4.0063],\n",
            "        [5.9833]], grad_fn=<AddBackward0>)\n",
            "Epoch 1200/1999 W: 1.982, b: 0.041 Cost: 0.000242\n",
            "tensor([[2.0230],\n",
            "        [4.0049],\n",
            "        [5.9869]], grad_fn=<AddBackward0>)\n",
            "Epoch 1300/1999 W: 1.986, b: 0.032 Cost: 0.000149\n",
            "tensor([[2.0181],\n",
            "        [4.0039],\n",
            "        [5.9897]], grad_fn=<AddBackward0>)\n",
            "Epoch 1400/1999 W: 1.989, b: 0.025 Cost: 0.000092\n",
            "tensor([[2.0142],\n",
            "        [4.0030],\n",
            "        [5.9919]], grad_fn=<AddBackward0>)\n",
            "Epoch 1500/1999 W: 1.991, b: 0.020 Cost: 0.000057\n",
            "tensor([[2.0112],\n",
            "        [4.0024],\n",
            "        [5.9936]], grad_fn=<AddBackward0>)\n",
            "Epoch 1600/1999 W: 1.993, b: 0.016 Cost: 0.000035\n",
            "tensor([[2.0088],\n",
            "        [4.0019],\n",
            "        [5.9950]], grad_fn=<AddBackward0>)\n",
            "Epoch 1700/1999 W: 1.995, b: 0.012 Cost: 0.000022\n",
            "tensor([[2.0069],\n",
            "        [4.0015],\n",
            "        [5.9961]], grad_fn=<AddBackward0>)\n",
            "Epoch 1800/1999 W: 1.996, b: 0.010 Cost: 0.000013\n",
            "tensor([[2.0054],\n",
            "        [4.0012],\n",
            "        [5.9969]], grad_fn=<AddBackward0>)\n",
            "Epoch 1900/1999 W: 1.997, b: 0.008 Cost: 0.000008\n",
            "tensor([[2.0043],\n",
            "        [4.0009],\n",
            "        [5.9976]], grad_fn=<AddBackward0>)\n"
          ],
          "name": "stdout"
        }
      ]
    },
    {
      "cell_type": "code",
      "metadata": {
        "id": "N9QyhFA1_Vbi"
      },
      "source": [
        ""
      ],
      "execution_count": null,
      "outputs": []
    }
  ]
}