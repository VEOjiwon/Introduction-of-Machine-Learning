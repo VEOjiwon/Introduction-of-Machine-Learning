{
  "nbformat": 4,
  "nbformat_minor": 0,
  "metadata": {
    "colab": {
      "name": "다중 선형 회귀.ipynb",
      "provenance": [],
      "collapsed_sections": [],
      "authorship_tag": "ABX9TyMq7vFUDBIrYMoGyJQNvl7X",
      "include_colab_link": true
    },
    "kernelspec": {
      "name": "python3",
      "display_name": "Python 3"
    },
    "language_info": {
      "name": "python"
    }
  },
  "cells": [
    {
      "cell_type": "markdown",
      "metadata": {
        "id": "view-in-github",
        "colab_type": "text"
      },
      "source": [
        "<a href=\"https://colab.research.google.com/github/VEOjiwon/Introduction-of-Machine-Learning/blob/main/%EC%84%A0%ED%98%95%ED%9A%8C%EA%B7%80/%EB%8B%A4%EC%A4%91_%EC%84%A0%ED%98%95_%ED%9A%8C%EA%B7%80.ipynb\" target=\"_parent\"><img src=\"https://colab.research.google.com/assets/colab-badge.svg\" alt=\"Open In Colab\"/></a>"
      ]
    },
    {
      "cell_type": "code",
      "metadata": {
        "id": "4lvD6QO4Amcs"
      },
      "source": [
        "import torch\n",
        "import torch.nn as nn\n",
        "import torch.nn.functional as F\n",
        "import torch.optim as optim"
      ],
      "execution_count": null,
      "outputs": []
    },
    {
      "cell_type": "code",
      "metadata": {
        "colab": {
          "base_uri": "https://localhost:8080/"
        },
        "id": "wGYUzVEZA5ex",
        "outputId": "8fa733ae-9c1a-41ad-ec43-c0dfa9c224e0"
      },
      "source": [
        "torch.manual_seed(1)"
      ],
      "execution_count": null,
      "outputs": [
        {
          "output_type": "execute_result",
          "data": {
            "text/plain": [
              "<torch._C.Generator at 0x7f98e4a32ad0>"
            ]
          },
          "metadata": {
            "tags": []
          },
          "execution_count": 2
        }
      ]
    },
    {
      "cell_type": "code",
      "metadata": {
        "id": "iSPBJZl2A7PA"
      },
      "source": [
        "# 훈련 데이터\n",
        "x1_train = torch.FloatTensor([[73], [93], [89], [96], [73]])\n",
        "x2_train = torch.FloatTensor([[80], [88], [91], [98], [66]])\n",
        "x3_train = torch.FloatTensor([[75], [93], [90], [100], [70]])\n",
        "y_train = torch.FloatTensor([[152], [185], [180], [196], [142]])"
      ],
      "execution_count": null,
      "outputs": []
    },
    {
      "cell_type": "code",
      "metadata": {
        "id": "TMNmi7MuA9EY"
      },
      "source": [
        "# 가중치 w와 편향 b 초기화\n",
        "w1 = torch.zeros(1, requires_grad=True)\n",
        "w2 = torch.zeros(1, requires_grad=True)\n",
        "w3 = torch.zeros(1, requires_grad=True)\n",
        "b = torch.zeros(1, requires_grad=True)"
      ],
      "execution_count": null,
      "outputs": []
    },
    {
      "cell_type": "code",
      "metadata": {
        "colab": {
          "base_uri": "https://localhost:8080/"
        },
        "id": "igwZ7C4gBBmf",
        "outputId": "8c962955-b2ef-4ff7-904f-a04abe6d35b2"
      },
      "source": [
        "# optimizer 설정\n",
        "optimizer = optim.SGD([w1, w2, w3, b], lr=1e-5)\n",
        "\n",
        "nb_epochs = 8000\n",
        "for epoch in range(nb_epochs + 1):\n",
        "\n",
        "    # H(x) 계산\n",
        "    hypothesis = x1_train * w1 + x2_train * w2 + x3_train * w3 + b\n",
        "\n",
        "    # cost 계산\n",
        "    cost = torch.mean((hypothesis - y_train) ** 2)\n",
        "\n",
        "    # cost로 H(x) 개선\n",
        "    optimizer.zero_grad()\n",
        "    cost.backward()\n",
        "    optimizer.step()\n",
        "\n",
        "    # 100번마다 로그 출력\n",
        "    if epoch % 100 == 0:\n",
        "        print('Epoch {:4d}/{} w1: {:.3f} w2: {:.3f} w3: {:.3f} b: {:.3f} Cost: {:.6f}'.format(\n",
        "            epoch, nb_epochs, w1.item(), w2.item(), w3.item(), b.item(), cost.item()\n",
        "        ))"
      ],
      "execution_count": null,
      "outputs": [
        {
          "output_type": "stream",
          "text": [
            "Epoch    0/8000 w1: 0.895 w2: 0.462 w3: 0.654 b: 0.019 Cost: 0.264152\n",
            "Epoch  100/8000 w1: 0.895 w2: 0.462 w3: 0.653 b: 0.019 Cost: 0.263516\n",
            "Epoch  200/8000 w1: 0.896 w2: 0.462 w3: 0.653 b: 0.019 Cost: 0.262885\n",
            "Epoch  300/8000 w1: 0.897 w2: 0.462 w3: 0.652 b: 0.019 Cost: 0.262278\n",
            "Epoch  400/8000 w1: 0.897 w2: 0.462 w3: 0.652 b: 0.020 Cost: 0.261678\n",
            "Epoch  500/8000 w1: 0.898 w2: 0.462 w3: 0.651 b: 0.020 Cost: 0.261075\n",
            "Epoch  600/8000 w1: 0.898 w2: 0.462 w3: 0.651 b: 0.020 Cost: 0.260493\n",
            "Epoch  700/8000 w1: 0.899 w2: 0.461 w3: 0.650 b: 0.020 Cost: 0.259924\n",
            "Epoch  800/8000 w1: 0.900 w2: 0.461 w3: 0.650 b: 0.020 Cost: 0.259355\n",
            "Epoch  900/8000 w1: 0.900 w2: 0.461 w3: 0.649 b: 0.020 Cost: 0.258790\n",
            "Epoch 1000/8000 w1: 0.901 w2: 0.461 w3: 0.649 b: 0.020 Cost: 0.258246\n",
            "Epoch 1100/8000 w1: 0.901 w2: 0.461 w3: 0.648 b: 0.020 Cost: 0.257702\n",
            "Epoch 1200/8000 w1: 0.902 w2: 0.461 w3: 0.648 b: 0.020 Cost: 0.257173\n",
            "Epoch 1300/8000 w1: 0.902 w2: 0.461 w3: 0.647 b: 0.020 Cost: 0.256644\n",
            "Epoch 1400/8000 w1: 0.903 w2: 0.461 w3: 0.647 b: 0.021 Cost: 0.256119\n",
            "Epoch 1500/8000 w1: 0.903 w2: 0.461 w3: 0.646 b: 0.021 Cost: 0.255604\n",
            "Epoch 1600/8000 w1: 0.904 w2: 0.461 w3: 0.646 b: 0.021 Cost: 0.255099\n",
            "Epoch 1700/8000 w1: 0.904 w2: 0.461 w3: 0.645 b: 0.021 Cost: 0.254595\n",
            "Epoch 1800/8000 w1: 0.905 w2: 0.461 w3: 0.645 b: 0.021 Cost: 0.254106\n",
            "Epoch 1900/8000 w1: 0.905 w2: 0.461 w3: 0.645 b: 0.021 Cost: 0.253613\n",
            "Epoch 2000/8000 w1: 0.906 w2: 0.461 w3: 0.644 b: 0.021 Cost: 0.253130\n",
            "Epoch 2100/8000 w1: 0.906 w2: 0.461 w3: 0.644 b: 0.021 Cost: 0.252655\n",
            "Epoch 2200/8000 w1: 0.907 w2: 0.461 w3: 0.643 b: 0.021 Cost: 0.252181\n",
            "Epoch 2300/8000 w1: 0.907 w2: 0.461 w3: 0.643 b: 0.021 Cost: 0.251712\n",
            "Epoch 2400/8000 w1: 0.908 w2: 0.461 w3: 0.642 b: 0.021 Cost: 0.251250\n",
            "Epoch 2500/8000 w1: 0.908 w2: 0.461 w3: 0.642 b: 0.022 Cost: 0.250790\n",
            "Epoch 2600/8000 w1: 0.909 w2: 0.461 w3: 0.641 b: 0.022 Cost: 0.250339\n",
            "Epoch 2700/8000 w1: 0.909 w2: 0.461 w3: 0.641 b: 0.022 Cost: 0.249891\n",
            "Epoch 2800/8000 w1: 0.910 w2: 0.461 w3: 0.640 b: 0.022 Cost: 0.249442\n",
            "Epoch 2900/8000 w1: 0.910 w2: 0.461 w3: 0.640 b: 0.022 Cost: 0.249008\n",
            "Epoch 3000/8000 w1: 0.911 w2: 0.461 w3: 0.639 b: 0.022 Cost: 0.248564\n",
            "Epoch 3100/8000 w1: 0.911 w2: 0.461 w3: 0.639 b: 0.022 Cost: 0.248129\n",
            "Epoch 3200/8000 w1: 0.912 w2: 0.461 w3: 0.638 b: 0.022 Cost: 0.247703\n",
            "Epoch 3300/8000 w1: 0.912 w2: 0.461 w3: 0.638 b: 0.022 Cost: 0.247276\n",
            "Epoch 3400/8000 w1: 0.913 w2: 0.461 w3: 0.637 b: 0.022 Cost: 0.246856\n",
            "Epoch 3500/8000 w1: 0.913 w2: 0.461 w3: 0.637 b: 0.022 Cost: 0.246435\n",
            "Epoch 3600/8000 w1: 0.913 w2: 0.461 w3: 0.637 b: 0.023 Cost: 0.246017\n",
            "Epoch 3700/8000 w1: 0.914 w2: 0.461 w3: 0.636 b: 0.023 Cost: 0.245609\n",
            "Epoch 3800/8000 w1: 0.914 w2: 0.461 w3: 0.636 b: 0.023 Cost: 0.245200\n",
            "Epoch 3900/8000 w1: 0.915 w2: 0.461 w3: 0.635 b: 0.023 Cost: 0.244795\n",
            "Epoch 4000/8000 w1: 0.915 w2: 0.461 w3: 0.635 b: 0.023 Cost: 0.244390\n",
            "Epoch 4100/8000 w1: 0.915 w2: 0.461 w3: 0.634 b: 0.023 Cost: 0.243988\n",
            "Epoch 4200/8000 w1: 0.916 w2: 0.461 w3: 0.634 b: 0.023 Cost: 0.243586\n",
            "Epoch 4300/8000 w1: 0.916 w2: 0.461 w3: 0.633 b: 0.023 Cost: 0.243193\n",
            "Epoch 4400/8000 w1: 0.917 w2: 0.461 w3: 0.633 b: 0.023 Cost: 0.242812\n",
            "Epoch 4500/8000 w1: 0.917 w2: 0.461 w3: 0.632 b: 0.023 Cost: 0.242418\n",
            "Epoch 4600/8000 w1: 0.918 w2: 0.461 w3: 0.632 b: 0.023 Cost: 0.242036\n",
            "Epoch 4700/8000 w1: 0.918 w2: 0.462 w3: 0.631 b: 0.024 Cost: 0.241646\n",
            "Epoch 4800/8000 w1: 0.918 w2: 0.462 w3: 0.631 b: 0.024 Cost: 0.241267\n",
            "Epoch 4900/8000 w1: 0.919 w2: 0.462 w3: 0.630 b: 0.024 Cost: 0.240895\n",
            "Epoch 5000/8000 w1: 0.919 w2: 0.462 w3: 0.630 b: 0.024 Cost: 0.240516\n",
            "Epoch 5100/8000 w1: 0.919 w2: 0.462 w3: 0.630 b: 0.024 Cost: 0.240141\n",
            "Epoch 5200/8000 w1: 0.920 w2: 0.462 w3: 0.629 b: 0.024 Cost: 0.239767\n",
            "Epoch 5300/8000 w1: 0.920 w2: 0.462 w3: 0.629 b: 0.024 Cost: 0.239403\n",
            "Epoch 5400/8000 w1: 0.921 w2: 0.462 w3: 0.628 b: 0.024 Cost: 0.239034\n",
            "Epoch 5500/8000 w1: 0.921 w2: 0.462 w3: 0.628 b: 0.024 Cost: 0.238668\n",
            "Epoch 5600/8000 w1: 0.921 w2: 0.462 w3: 0.627 b: 0.024 Cost: 0.238309\n",
            "Epoch 5700/8000 w1: 0.922 w2: 0.462 w3: 0.627 b: 0.024 Cost: 0.237949\n",
            "Epoch 5800/8000 w1: 0.922 w2: 0.462 w3: 0.626 b: 0.024 Cost: 0.237590\n",
            "Epoch 5900/8000 w1: 0.922 w2: 0.462 w3: 0.626 b: 0.025 Cost: 0.237234\n",
            "Epoch 6000/8000 w1: 0.923 w2: 0.463 w3: 0.625 b: 0.025 Cost: 0.236878\n",
            "Epoch 6100/8000 w1: 0.923 w2: 0.463 w3: 0.625 b: 0.025 Cost: 0.236528\n",
            "Epoch 6200/8000 w1: 0.924 w2: 0.463 w3: 0.625 b: 0.025 Cost: 0.236182\n",
            "Epoch 6300/8000 w1: 0.924 w2: 0.463 w3: 0.624 b: 0.025 Cost: 0.235838\n",
            "Epoch 6400/8000 w1: 0.924 w2: 0.463 w3: 0.624 b: 0.025 Cost: 0.235490\n",
            "Epoch 6500/8000 w1: 0.925 w2: 0.463 w3: 0.623 b: 0.025 Cost: 0.235143\n",
            "Epoch 6600/8000 w1: 0.925 w2: 0.463 w3: 0.623 b: 0.025 Cost: 0.234807\n",
            "Epoch 6700/8000 w1: 0.925 w2: 0.463 w3: 0.622 b: 0.025 Cost: 0.234461\n",
            "Epoch 6800/8000 w1: 0.926 w2: 0.463 w3: 0.622 b: 0.025 Cost: 0.234125\n",
            "Epoch 6900/8000 w1: 0.926 w2: 0.463 w3: 0.621 b: 0.025 Cost: 0.233785\n",
            "Epoch 7000/8000 w1: 0.926 w2: 0.464 w3: 0.621 b: 0.025 Cost: 0.233456\n",
            "Epoch 7100/8000 w1: 0.927 w2: 0.464 w3: 0.621 b: 0.026 Cost: 0.233126\n",
            "Epoch 7200/8000 w1: 0.927 w2: 0.464 w3: 0.620 b: 0.026 Cost: 0.232792\n",
            "Epoch 7300/8000 w1: 0.927 w2: 0.464 w3: 0.620 b: 0.026 Cost: 0.232464\n",
            "Epoch 7400/8000 w1: 0.928 w2: 0.464 w3: 0.619 b: 0.026 Cost: 0.232135\n",
            "Epoch 7500/8000 w1: 0.928 w2: 0.464 w3: 0.619 b: 0.026 Cost: 0.231811\n",
            "Epoch 7600/8000 w1: 0.928 w2: 0.464 w3: 0.618 b: 0.026 Cost: 0.231487\n",
            "Epoch 7700/8000 w1: 0.929 w2: 0.464 w3: 0.618 b: 0.026 Cost: 0.231166\n",
            "Epoch 7800/8000 w1: 0.929 w2: 0.464 w3: 0.617 b: 0.026 Cost: 0.230851\n",
            "Epoch 7900/8000 w1: 0.929 w2: 0.465 w3: 0.617 b: 0.026 Cost: 0.230525\n",
            "Epoch 8000/8000 w1: 0.930 w2: 0.465 w3: 0.617 b: 0.026 Cost: 0.230209\n"
          ],
          "name": "stdout"
        }
      ]
    },
    {
      "cell_type": "code",
      "metadata": {
        "id": "q25_bQAABYcf"
      },
      "source": [
        "# 행렬연산을 고려하여 파이토치로 구현하기\n",
        "x_train  =  torch.FloatTensor([[73,  80,  75], \n",
        "                               [93,  88,  93], \n",
        "                               [89,  91,  80], \n",
        "                               [96,  98,  100],   \n",
        "                               [73,  66,  70]])  \n",
        "y_train  =  torch.FloatTensor([[152],  [185],  [180],  [196],  [142]])"
      ],
      "execution_count": null,
      "outputs": []
    },
    {
      "cell_type": "code",
      "metadata": {
        "id": "FozoIIWpB81t"
      },
      "source": [
        "W = torch.zeros((3, 1), requires_grad=True)\n",
        "b = torch.zeros(1, requires_grad=True)"
      ],
      "execution_count": null,
      "outputs": []
    },
    {
      "cell_type": "code",
      "metadata": {
        "id": "-mHgOO9dB_Ck"
      },
      "source": [
        "hypothesis = x_train.matmul(W) + b"
      ],
      "execution_count": null,
      "outputs": []
    },
    {
      "cell_type": "code",
      "metadata": {
        "colab": {
          "base_uri": "https://localhost:8080/"
        },
        "id": "soPJ5rhtCBks",
        "outputId": "8e25789f-87e9-44d9-dae0-54db2956c920"
      },
      "source": [
        "# optimizer 설정\n",
        "optimizer = optim.SGD([W, b], lr=1e-5)\n",
        "\n",
        "nb_epochs = 20\n",
        "for epoch in range(nb_epochs + 1):\n",
        "\n",
        "    # H(x) 계산\n",
        "    # 편향 b는 브로드 캐스팅되어 각 샘플에 더해집니다.\n",
        "    hypothesis = x_train.matmul(W) + b\n",
        "\n",
        "    # cost 계산\n",
        "    cost = torch.mean((hypothesis - y_train) ** 2)\n",
        "\n",
        "    # cost로 H(x) 개선\n",
        "    optimizer.zero_grad()\n",
        "    cost.backward()\n",
        "    optimizer.step()\n",
        "\n",
        "    print('Epoch {:4d}/{} hypothesis: {} Cost: {:.6f}'.format(\n",
        "        epoch, nb_epochs, hypothesis.squeeze().detach(), cost.item()\n",
        "    ))"
      ],
      "execution_count": null,
      "outputs": [
        {
          "output_type": "stream",
          "text": [
            "Epoch    0/20 hypothesis: tensor([0., 0., 0., 0., 0.]) Cost: 29661.800781\n",
            "Epoch    1/20 hypothesis: tensor([66.7178, 80.1701, 76.1025, 86.0194, 61.1565]) Cost: 9537.694336\n",
            "Epoch    2/20 hypothesis: tensor([104.5421, 125.6208, 119.2478, 134.7862,  95.8280]) Cost: 3069.590088\n",
            "Epoch    3/20 hypothesis: tensor([125.9858, 151.3882, 143.7087, 162.4333, 115.4844]) Cost: 990.670288\n",
            "Epoch    4/20 hypothesis: tensor([138.1429, 165.9963, 157.5768, 178.1071, 126.6283]) Cost: 322.481873\n",
            "Epoch    5/20 hypothesis: tensor([145.0350, 174.2780, 165.4395, 186.9928, 132.9461]) Cost: 107.717064\n",
            "Epoch    6/20 hypothesis: tensor([148.9423, 178.9730, 169.8976, 192.0301, 136.5279]) Cost: 38.687496\n",
            "Epoch    7/20 hypothesis: tensor([151.1574, 181.6346, 172.4254, 194.8856, 138.5585]) Cost: 16.499043\n",
            "Epoch    8/20 hypothesis: tensor([152.4131, 183.1435, 173.8590, 196.5043, 139.7097]) Cost: 9.365656\n",
            "Epoch    9/20 hypothesis: tensor([153.1250, 183.9988, 174.6723, 197.4217, 140.3625]) Cost: 7.071114\n",
            "Epoch   10/20 hypothesis: tensor([153.5285, 184.4835, 175.1338, 197.9415, 140.7325]) Cost: 6.331847\n",
            "Epoch   11/20 hypothesis: tensor([153.7572, 184.7582, 175.3958, 198.2360, 140.9424]) Cost: 6.092532\n",
            "Epoch   12/20 hypothesis: tensor([153.8868, 184.9138, 175.5449, 198.4026, 141.0613]) Cost: 6.013817\n",
            "Epoch   13/20 hypothesis: tensor([153.9602, 185.0019, 175.6299, 198.4969, 141.1288]) Cost: 5.986785\n",
            "Epoch   14/20 hypothesis: tensor([154.0017, 185.0517, 175.6785, 198.5500, 141.1671]) Cost: 5.976325\n",
            "Epoch   15/20 hypothesis: tensor([154.0252, 185.0798, 175.7065, 198.5800, 141.1888]) Cost: 5.971208\n",
            "Epoch   16/20 hypothesis: tensor([154.0385, 185.0956, 175.7229, 198.5966, 141.2012]) Cost: 5.967835\n",
            "Epoch   17/20 hypothesis: tensor([154.0459, 185.1045, 175.7326, 198.6059, 141.2082]) Cost: 5.964969\n",
            "Epoch   18/20 hypothesis: tensor([154.0501, 185.1094, 175.7386, 198.6108, 141.2122]) Cost: 5.962291\n",
            "Epoch   19/20 hypothesis: tensor([154.0524, 185.1120, 175.7424, 198.6134, 141.2145]) Cost: 5.959664\n",
            "Epoch   20/20 hypothesis: tensor([154.0536, 185.1134, 175.7451, 198.6145, 141.2158]) Cost: 5.957089\n"
          ],
          "name": "stdout"
        }
      ]
    },
    {
      "cell_type": "code",
      "metadata": {
        "id": "F991HelkCDd0"
      },
      "source": [
        ""
      ],
      "execution_count": null,
      "outputs": []
    }
  ]
}